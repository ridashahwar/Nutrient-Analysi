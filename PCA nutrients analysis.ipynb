{
 "cells": [
  {
   "cell_type": "code",
   "execution_count": 1,
   "id": "032530eb",
   "metadata": {},
   "outputs": [],
   "source": [
    "import pandas as pd\n",
    "import numpy as np\n",
    "from sklearn.decomposition import PCA\n",
    "from sklearn.preprocessing import StandardScaler\n",
    "import matplotlib.pyplot as plt"
   ]
  },
  {
   "cell_type": "code",
   "execution_count": 2,
   "id": "d76dc151",
   "metadata": {
    "scrolled": true
   },
   "outputs": [
    {
     "data": {
      "text/html": [
       "<div>\n",
       "<style scoped>\n",
       "    .dataframe tbody tr th:only-of-type {\n",
       "        vertical-align: middle;\n",
       "    }\n",
       "\n",
       "    .dataframe tbody tr th {\n",
       "        vertical-align: top;\n",
       "    }\n",
       "\n",
       "    .dataframe thead th {\n",
       "        text-align: right;\n",
       "    }\n",
       "</style>\n",
       "<table border=\"1\" class=\"dataframe\">\n",
       "  <thead>\n",
       "    <tr style=\"text-align: right;\">\n",
       "      <th></th>\n",
       "      <th>ID</th>\n",
       "      <th>FoodGroup</th>\n",
       "      <th>ShortDescrip</th>\n",
       "      <th>Descrip</th>\n",
       "      <th>CommonName</th>\n",
       "      <th>MfgName</th>\n",
       "      <th>ScientificName</th>\n",
       "      <th>Energy_kcal</th>\n",
       "      <th>Protein_g</th>\n",
       "      <th>Fat_g</th>\n",
       "      <th>...</th>\n",
       "      <th>Folate_USRDA</th>\n",
       "      <th>Niacin_USRDA</th>\n",
       "      <th>Riboflavin_USRDA</th>\n",
       "      <th>Thiamin_USRDA</th>\n",
       "      <th>Calcium_USRDA</th>\n",
       "      <th>Copper_USRDA</th>\n",
       "      <th>Magnesium_USRDA</th>\n",
       "      <th>Phosphorus_USRDA</th>\n",
       "      <th>Selenium_USRDA</th>\n",
       "      <th>Zinc_USRDA</th>\n",
       "    </tr>\n",
       "  </thead>\n",
       "  <tbody>\n",
       "    <tr>\n",
       "      <th>0</th>\n",
       "      <td>1001</td>\n",
       "      <td>Dairy and Egg Products</td>\n",
       "      <td>BUTTER,WITH SALT</td>\n",
       "      <td>Butter, salted</td>\n",
       "      <td>NaN</td>\n",
       "      <td>NaN</td>\n",
       "      <td>NaN</td>\n",
       "      <td>717.0</td>\n",
       "      <td>0.85</td>\n",
       "      <td>81.11</td>\n",
       "      <td>...</td>\n",
       "      <td>0.0075</td>\n",
       "      <td>0.002625</td>\n",
       "      <td>0.026154</td>\n",
       "      <td>0.004167</td>\n",
       "      <td>0.020000</td>\n",
       "      <td>0.000000</td>\n",
       "      <td>0.004762</td>\n",
       "      <td>0.034286</td>\n",
       "      <td>0.018182</td>\n",
       "      <td>0.008182</td>\n",
       "    </tr>\n",
       "    <tr>\n",
       "      <th>1</th>\n",
       "      <td>1002</td>\n",
       "      <td>Dairy and Egg Products</td>\n",
       "      <td>BUTTER,WHIPPED,WITH SALT</td>\n",
       "      <td>Butter, whipped, with salt</td>\n",
       "      <td>NaN</td>\n",
       "      <td>NaN</td>\n",
       "      <td>NaN</td>\n",
       "      <td>717.0</td>\n",
       "      <td>0.85</td>\n",
       "      <td>81.11</td>\n",
       "      <td>...</td>\n",
       "      <td>0.0075</td>\n",
       "      <td>0.002625</td>\n",
       "      <td>0.026154</td>\n",
       "      <td>0.004167</td>\n",
       "      <td>0.020000</td>\n",
       "      <td>0.000018</td>\n",
       "      <td>0.004762</td>\n",
       "      <td>0.032857</td>\n",
       "      <td>0.018182</td>\n",
       "      <td>0.004545</td>\n",
       "    </tr>\n",
       "    <tr>\n",
       "      <th>2</th>\n",
       "      <td>1003</td>\n",
       "      <td>Dairy and Egg Products</td>\n",
       "      <td>BUTTER OIL,ANHYDROUS</td>\n",
       "      <td>Butter oil, anhydrous</td>\n",
       "      <td>NaN</td>\n",
       "      <td>NaN</td>\n",
       "      <td>NaN</td>\n",
       "      <td>876.0</td>\n",
       "      <td>0.28</td>\n",
       "      <td>99.48</td>\n",
       "      <td>...</td>\n",
       "      <td>0.0000</td>\n",
       "      <td>0.000188</td>\n",
       "      <td>0.003846</td>\n",
       "      <td>0.000833</td>\n",
       "      <td>0.003333</td>\n",
       "      <td>0.000001</td>\n",
       "      <td>0.000000</td>\n",
       "      <td>0.004286</td>\n",
       "      <td>0.000000</td>\n",
       "      <td>0.000909</td>\n",
       "    </tr>\n",
       "    <tr>\n",
       "      <th>3</th>\n",
       "      <td>1004</td>\n",
       "      <td>Dairy and Egg Products</td>\n",
       "      <td>CHEESE,BLUE</td>\n",
       "      <td>Cheese, blue</td>\n",
       "      <td>NaN</td>\n",
       "      <td>NaN</td>\n",
       "      <td>NaN</td>\n",
       "      <td>353.0</td>\n",
       "      <td>21.40</td>\n",
       "      <td>28.74</td>\n",
       "      <td>...</td>\n",
       "      <td>0.0900</td>\n",
       "      <td>0.063500</td>\n",
       "      <td>0.293846</td>\n",
       "      <td>0.024167</td>\n",
       "      <td>0.440000</td>\n",
       "      <td>0.000044</td>\n",
       "      <td>0.054762</td>\n",
       "      <td>0.552857</td>\n",
       "      <td>0.263636</td>\n",
       "      <td>0.241818</td>\n",
       "    </tr>\n",
       "    <tr>\n",
       "      <th>4</th>\n",
       "      <td>1005</td>\n",
       "      <td>Dairy and Egg Products</td>\n",
       "      <td>CHEESE,BRICK</td>\n",
       "      <td>Cheese, brick</td>\n",
       "      <td>NaN</td>\n",
       "      <td>NaN</td>\n",
       "      <td>NaN</td>\n",
       "      <td>371.0</td>\n",
       "      <td>23.24</td>\n",
       "      <td>29.68</td>\n",
       "      <td>...</td>\n",
       "      <td>0.0500</td>\n",
       "      <td>0.007375</td>\n",
       "      <td>0.270000</td>\n",
       "      <td>0.011667</td>\n",
       "      <td>0.561667</td>\n",
       "      <td>0.000027</td>\n",
       "      <td>0.057143</td>\n",
       "      <td>0.644286</td>\n",
       "      <td>0.263636</td>\n",
       "      <td>0.236364</td>\n",
       "    </tr>\n",
       "    <tr>\n",
       "      <th>...</th>\n",
       "      <td>...</td>\n",
       "      <td>...</td>\n",
       "      <td>...</td>\n",
       "      <td>...</td>\n",
       "      <td>...</td>\n",
       "      <td>...</td>\n",
       "      <td>...</td>\n",
       "      <td>...</td>\n",
       "      <td>...</td>\n",
       "      <td>...</td>\n",
       "      <td>...</td>\n",
       "      <td>...</td>\n",
       "      <td>...</td>\n",
       "      <td>...</td>\n",
       "      <td>...</td>\n",
       "      <td>...</td>\n",
       "      <td>...</td>\n",
       "      <td>...</td>\n",
       "      <td>...</td>\n",
       "      <td>...</td>\n",
       "      <td>...</td>\n",
       "    </tr>\n",
       "    <tr>\n",
       "      <th>8613</th>\n",
       "      <td>83110</td>\n",
       "      <td>Finfish and Shellfish Products</td>\n",
       "      <td>MACKEREL,SALTED</td>\n",
       "      <td>Fish, mackerel, salted</td>\n",
       "      <td>NaN</td>\n",
       "      <td>NaN</td>\n",
       "      <td>NaN</td>\n",
       "      <td>305.0</td>\n",
       "      <td>18.50</td>\n",
       "      <td>25.10</td>\n",
       "      <td>...</td>\n",
       "      <td>0.0375</td>\n",
       "      <td>0.206250</td>\n",
       "      <td>0.146154</td>\n",
       "      <td>0.016667</td>\n",
       "      <td>0.055000</td>\n",
       "      <td>0.000111</td>\n",
       "      <td>0.142857</td>\n",
       "      <td>0.362857</td>\n",
       "      <td>1.334545</td>\n",
       "      <td>0.100000</td>\n",
       "    </tr>\n",
       "    <tr>\n",
       "      <th>8614</th>\n",
       "      <td>90240</td>\n",
       "      <td>Finfish and Shellfish Products</td>\n",
       "      <td>SCALLOP,(BAY&amp;SEA),CKD,STMD</td>\n",
       "      <td>Mollusks, scallop, (bay and sea), cooked, steamed</td>\n",
       "      <td>NaN</td>\n",
       "      <td>NaN</td>\n",
       "      <td>NaN</td>\n",
       "      <td>111.0</td>\n",
       "      <td>20.54</td>\n",
       "      <td>0.84</td>\n",
       "      <td>...</td>\n",
       "      <td>0.0500</td>\n",
       "      <td>0.067250</td>\n",
       "      <td>0.018462</td>\n",
       "      <td>0.010000</td>\n",
       "      <td>0.008333</td>\n",
       "      <td>0.000037</td>\n",
       "      <td>0.088095</td>\n",
       "      <td>0.608571</td>\n",
       "      <td>0.394545</td>\n",
       "      <td>0.140909</td>\n",
       "    </tr>\n",
       "    <tr>\n",
       "      <th>8615</th>\n",
       "      <td>90480</td>\n",
       "      <td>Sweets</td>\n",
       "      <td>SYRUP,CANE</td>\n",
       "      <td>Syrup, Cane</td>\n",
       "      <td>NaN</td>\n",
       "      <td>NaN</td>\n",
       "      <td>NaN</td>\n",
       "      <td>269.0</td>\n",
       "      <td>0.00</td>\n",
       "      <td>0.00</td>\n",
       "      <td>...</td>\n",
       "      <td>0.0000</td>\n",
       "      <td>0.006250</td>\n",
       "      <td>0.046154</td>\n",
       "      <td>0.108333</td>\n",
       "      <td>0.010833</td>\n",
       "      <td>0.000022</td>\n",
       "      <td>0.023810</td>\n",
       "      <td>0.011429</td>\n",
       "      <td>0.012727</td>\n",
       "      <td>0.017273</td>\n",
       "    </tr>\n",
       "    <tr>\n",
       "      <th>8616</th>\n",
       "      <td>90560</td>\n",
       "      <td>Finfish and Shellfish Products</td>\n",
       "      <td>SNAIL,RAW</td>\n",
       "      <td>Mollusks, snail, raw</td>\n",
       "      <td>NaN</td>\n",
       "      <td>NaN</td>\n",
       "      <td>NaN</td>\n",
       "      <td>90.0</td>\n",
       "      <td>16.10</td>\n",
       "      <td>1.40</td>\n",
       "      <td>...</td>\n",
       "      <td>0.0150</td>\n",
       "      <td>0.087500</td>\n",
       "      <td>0.092308</td>\n",
       "      <td>0.008333</td>\n",
       "      <td>0.008333</td>\n",
       "      <td>0.000444</td>\n",
       "      <td>0.595238</td>\n",
       "      <td>0.388571</td>\n",
       "      <td>0.498182</td>\n",
       "      <td>0.090909</td>\n",
       "    </tr>\n",
       "    <tr>\n",
       "      <th>8617</th>\n",
       "      <td>93600</td>\n",
       "      <td>Finfish and Shellfish Products</td>\n",
       "      <td>TURTLE,GREEN,RAW</td>\n",
       "      <td>Turtle, green, raw</td>\n",
       "      <td>NaN</td>\n",
       "      <td>NaN</td>\n",
       "      <td>NaN</td>\n",
       "      <td>89.0</td>\n",
       "      <td>19.80</td>\n",
       "      <td>0.50</td>\n",
       "      <td>...</td>\n",
       "      <td>0.0375</td>\n",
       "      <td>0.068750</td>\n",
       "      <td>0.115385</td>\n",
       "      <td>0.100000</td>\n",
       "      <td>0.098333</td>\n",
       "      <td>0.000278</td>\n",
       "      <td>0.047619</td>\n",
       "      <td>0.257143</td>\n",
       "      <td>0.305455</td>\n",
       "      <td>0.090909</td>\n",
       "    </tr>\n",
       "  </tbody>\n",
       "</table>\n",
       "<p>8618 rows × 45 columns</p>\n",
       "</div>"
      ],
      "text/plain": [
       "         ID                       FoodGroup                ShortDescrip  \\\n",
       "0      1001          Dairy and Egg Products            BUTTER,WITH SALT   \n",
       "1      1002          Dairy and Egg Products    BUTTER,WHIPPED,WITH SALT   \n",
       "2      1003          Dairy and Egg Products        BUTTER OIL,ANHYDROUS   \n",
       "3      1004          Dairy and Egg Products                 CHEESE,BLUE   \n",
       "4      1005          Dairy and Egg Products                CHEESE,BRICK   \n",
       "...     ...                             ...                         ...   \n",
       "8613  83110  Finfish and Shellfish Products             MACKEREL,SALTED   \n",
       "8614  90240  Finfish and Shellfish Products  SCALLOP,(BAY&SEA),CKD,STMD   \n",
       "8615  90480                          Sweets                  SYRUP,CANE   \n",
       "8616  90560  Finfish and Shellfish Products                   SNAIL,RAW   \n",
       "8617  93600  Finfish and Shellfish Products            TURTLE,GREEN,RAW   \n",
       "\n",
       "                                                Descrip CommonName MfgName  \\\n",
       "0                                        Butter, salted        NaN     NaN   \n",
       "1                            Butter, whipped, with salt        NaN     NaN   \n",
       "2                                 Butter oil, anhydrous        NaN     NaN   \n",
       "3                                          Cheese, blue        NaN     NaN   \n",
       "4                                         Cheese, brick        NaN     NaN   \n",
       "...                                                 ...        ...     ...   \n",
       "8613                             Fish, mackerel, salted        NaN     NaN   \n",
       "8614  Mollusks, scallop, (bay and sea), cooked, steamed        NaN     NaN   \n",
       "8615                                        Syrup, Cane        NaN     NaN   \n",
       "8616                               Mollusks, snail, raw        NaN     NaN   \n",
       "8617                                 Turtle, green, raw        NaN     NaN   \n",
       "\n",
       "     ScientificName  Energy_kcal  Protein_g  Fat_g  ...  Folate_USRDA  \\\n",
       "0               NaN        717.0       0.85  81.11  ...        0.0075   \n",
       "1               NaN        717.0       0.85  81.11  ...        0.0075   \n",
       "2               NaN        876.0       0.28  99.48  ...        0.0000   \n",
       "3               NaN        353.0      21.40  28.74  ...        0.0900   \n",
       "4               NaN        371.0      23.24  29.68  ...        0.0500   \n",
       "...             ...          ...        ...    ...  ...           ...   \n",
       "8613            NaN        305.0      18.50  25.10  ...        0.0375   \n",
       "8614            NaN        111.0      20.54   0.84  ...        0.0500   \n",
       "8615            NaN        269.0       0.00   0.00  ...        0.0000   \n",
       "8616            NaN         90.0      16.10   1.40  ...        0.0150   \n",
       "8617            NaN         89.0      19.80   0.50  ...        0.0375   \n",
       "\n",
       "      Niacin_USRDA  Riboflavin_USRDA  Thiamin_USRDA  Calcium_USRDA  \\\n",
       "0         0.002625          0.026154       0.004167       0.020000   \n",
       "1         0.002625          0.026154       0.004167       0.020000   \n",
       "2         0.000188          0.003846       0.000833       0.003333   \n",
       "3         0.063500          0.293846       0.024167       0.440000   \n",
       "4         0.007375          0.270000       0.011667       0.561667   \n",
       "...            ...               ...            ...            ...   \n",
       "8613      0.206250          0.146154       0.016667       0.055000   \n",
       "8614      0.067250          0.018462       0.010000       0.008333   \n",
       "8615      0.006250          0.046154       0.108333       0.010833   \n",
       "8616      0.087500          0.092308       0.008333       0.008333   \n",
       "8617      0.068750          0.115385       0.100000       0.098333   \n",
       "\n",
       "      Copper_USRDA  Magnesium_USRDA  Phosphorus_USRDA  Selenium_USRDA  \\\n",
       "0         0.000000         0.004762          0.034286        0.018182   \n",
       "1         0.000018         0.004762          0.032857        0.018182   \n",
       "2         0.000001         0.000000          0.004286        0.000000   \n",
       "3         0.000044         0.054762          0.552857        0.263636   \n",
       "4         0.000027         0.057143          0.644286        0.263636   \n",
       "...            ...              ...               ...             ...   \n",
       "8613      0.000111         0.142857          0.362857        1.334545   \n",
       "8614      0.000037         0.088095          0.608571        0.394545   \n",
       "8615      0.000022         0.023810          0.011429        0.012727   \n",
       "8616      0.000444         0.595238          0.388571        0.498182   \n",
       "8617      0.000278         0.047619          0.257143        0.305455   \n",
       "\n",
       "      Zinc_USRDA  \n",
       "0       0.008182  \n",
       "1       0.004545  \n",
       "2       0.000909  \n",
       "3       0.241818  \n",
       "4       0.236364  \n",
       "...          ...  \n",
       "8613    0.100000  \n",
       "8614    0.140909  \n",
       "8615    0.017273  \n",
       "8616    0.090909  \n",
       "8617    0.090909  \n",
       "\n",
       "[8618 rows x 45 columns]"
      ]
     },
     "execution_count": 2,
     "metadata": {},
     "output_type": "execute_result"
    }
   ],
   "source": [
    "df = pd.read_csv('nndb_flat.csv')\n",
    "df"
   ]
  },
  {
   "cell_type": "code",
   "execution_count": 3,
   "id": "a2137919",
   "metadata": {},
   "outputs": [
    {
     "data": {
      "text/html": [
       "<div>\n",
       "<style scoped>\n",
       "    .dataframe tbody tr th:only-of-type {\n",
       "        vertical-align: middle;\n",
       "    }\n",
       "\n",
       "    .dataframe tbody tr th {\n",
       "        vertical-align: top;\n",
       "    }\n",
       "\n",
       "    .dataframe thead th {\n",
       "        text-align: right;\n",
       "    }\n",
       "</style>\n",
       "<table border=\"1\" class=\"dataframe\">\n",
       "  <thead>\n",
       "    <tr style=\"text-align: right;\">\n",
       "      <th></th>\n",
       "      <th>column</th>\n",
       "      <th>row</th>\n",
       "      <th>corr</th>\n",
       "    </tr>\n",
       "  </thead>\n",
       "  <tbody>\n",
       "    <tr>\n",
       "      <th>0</th>\n",
       "      <td>VitA_mcg</td>\n",
       "      <td>VitA_USRDA</td>\n",
       "      <td>1.0</td>\n",
       "    </tr>\n",
       "    <tr>\n",
       "      <th>1</th>\n",
       "      <td>VitB6_mg</td>\n",
       "      <td>VitB6_USRDA</td>\n",
       "      <td>1.0</td>\n",
       "    </tr>\n",
       "    <tr>\n",
       "      <th>2</th>\n",
       "      <td>VitB12_mcg</td>\n",
       "      <td>VitB12_USRDA</td>\n",
       "      <td>1.0</td>\n",
       "    </tr>\n",
       "    <tr>\n",
       "      <th>3</th>\n",
       "      <td>VitC_mg</td>\n",
       "      <td>VitC_USRDA</td>\n",
       "      <td>1.0</td>\n",
       "    </tr>\n",
       "    <tr>\n",
       "      <th>4</th>\n",
       "      <td>VitE_mg</td>\n",
       "      <td>VitE_USRDA</td>\n",
       "      <td>1.0</td>\n",
       "    </tr>\n",
       "    <tr>\n",
       "      <th>5</th>\n",
       "      <td>Folate_mcg</td>\n",
       "      <td>Folate_USRDA</td>\n",
       "      <td>1.0</td>\n",
       "    </tr>\n",
       "    <tr>\n",
       "      <th>6</th>\n",
       "      <td>Niacin_mg</td>\n",
       "      <td>Niacin_USRDA</td>\n",
       "      <td>1.0</td>\n",
       "    </tr>\n",
       "    <tr>\n",
       "      <th>7</th>\n",
       "      <td>Riboflavin_mg</td>\n",
       "      <td>Riboflavin_USRDA</td>\n",
       "      <td>1.0</td>\n",
       "    </tr>\n",
       "    <tr>\n",
       "      <th>8</th>\n",
       "      <td>Thiamin_mg</td>\n",
       "      <td>Thiamin_USRDA</td>\n",
       "      <td>1.0</td>\n",
       "    </tr>\n",
       "    <tr>\n",
       "      <th>9</th>\n",
       "      <td>Calcium_mg</td>\n",
       "      <td>Calcium_USRDA</td>\n",
       "      <td>1.0</td>\n",
       "    </tr>\n",
       "    <tr>\n",
       "      <th>10</th>\n",
       "      <td>Copper_mcg</td>\n",
       "      <td>Copper_USRDA</td>\n",
       "      <td>1.0</td>\n",
       "    </tr>\n",
       "    <tr>\n",
       "      <th>11</th>\n",
       "      <td>Magnesium_mg</td>\n",
       "      <td>Magnesium_USRDA</td>\n",
       "      <td>1.0</td>\n",
       "    </tr>\n",
       "    <tr>\n",
       "      <th>12</th>\n",
       "      <td>Phosphorus_mg</td>\n",
       "      <td>Phosphorus_USRDA</td>\n",
       "      <td>1.0</td>\n",
       "    </tr>\n",
       "    <tr>\n",
       "      <th>13</th>\n",
       "      <td>Selenium_mcg</td>\n",
       "      <td>Selenium_USRDA</td>\n",
       "      <td>1.0</td>\n",
       "    </tr>\n",
       "    <tr>\n",
       "      <th>14</th>\n",
       "      <td>Zinc_mg</td>\n",
       "      <td>Zinc_USRDA</td>\n",
       "      <td>1.0</td>\n",
       "    </tr>\n",
       "  </tbody>\n",
       "</table>\n",
       "</div>"
      ],
      "text/plain": [
       "           column               row corr\n",
       "0        VitA_mcg        VitA_USRDA  1.0\n",
       "1        VitB6_mg       VitB6_USRDA  1.0\n",
       "2      VitB12_mcg      VitB12_USRDA  1.0\n",
       "3         VitC_mg        VitC_USRDA  1.0\n",
       "4         VitE_mg        VitE_USRDA  1.0\n",
       "5      Folate_mcg      Folate_USRDA  1.0\n",
       "6       Niacin_mg      Niacin_USRDA  1.0\n",
       "7   Riboflavin_mg  Riboflavin_USRDA  1.0\n",
       "8      Thiamin_mg     Thiamin_USRDA  1.0\n",
       "9      Calcium_mg     Calcium_USRDA  1.0\n",
       "10     Copper_mcg      Copper_USRDA  1.0\n",
       "11   Magnesium_mg   Magnesium_USRDA  1.0\n",
       "12  Phosphorus_mg  Phosphorus_USRDA  1.0\n",
       "13   Selenium_mcg    Selenium_USRDA  1.0\n",
       "14        Zinc_mg        Zinc_USRDA  1.0"
      ]
     },
     "execution_count": 3,
     "metadata": {},
     "output_type": "execute_result"
    }
   ],
   "source": [
    "used = []\n",
    "corrs = []\n",
    "for i, j in enumerate(df.corr().columns):\n",
    "    for k in range(len(df.corr())):\n",
    "        if ((df.corr().iloc[k, i] > 0.9) & \n",
    "            (j not in used) &\n",
    "            (j != df.corr().index[k])):\n",
    "            \n",
    "            used.append(j)\n",
    "            corrs.append((j, df.corr().index[k], \n",
    "                          np.round(df.corr().iloc[k, i], 2)))\n",
    "\n",
    "            \n",
    "corrsdf = pd.DataFrame([[i[0] for i in corrs],\n",
    "                        [i[1] for i in corrs],\n",
    "                        [i[2] for i in corrs]])\n",
    "\n",
    "corrsdf = corrsdf.T.rename(columns = {0:'column',1:'row',2:'corr'})\n",
    "corrsdf[:15]"
   ]
  },
  {
   "cell_type": "code",
   "execution_count": 4,
   "id": "8f0befbf",
   "metadata": {},
   "outputs": [],
   "source": [
    "df.drop(df.columns[df.columns.str.contains('_USRDA')].values, \n",
    "        inplace=True, axis=1)"
   ]
  },
  {
   "cell_type": "code",
   "execution_count": 5,
   "id": "6d33760d",
   "metadata": {},
   "outputs": [],
   "source": [
    "df.set_index('ID', inplace=True)\n",
    "df_desc = df.iloc[:, :6]\n",
    "df.drop(df.columns[:6].values, axis=1, inplace=True)"
   ]
  },
  {
   "cell_type": "code",
   "execution_count": 7,
   "id": "c9018ace",
   "metadata": {
    "scrolled": true
   },
   "outputs": [
    {
     "data": {
      "image/png": "[encoded data removed]",
      "text/plain": [
       "<Figure size 792x792 with 25 Axes>"
      ]
     },
     "metadata": {
      "needs_background": "light"
     },
     "output_type": "display_data"
    }
   ],
   "source": [
    "%matplotlib inline\n",
    "ax = df.hist(bins=50, xlabelsize=-1, ylabelsize=-1, figsize=(11,11))"
   ]
  },
  {
   "cell_type": "code",
   "execution_count": 8,
   "id": "8e2f91a3",
   "metadata": {},
   "outputs": [],
   "source": [
    "from scipy.stats import boxcox\n",
    "# add 1 because data must be positive (we have many zeros)\n",
    "df = df + 1\n",
    "df_TF = pd.DataFrame(index=df.index)\n",
    "for i in df.columns.values:\n",
    "    df_TF[\"%s_TF\" % i] = boxcox(df.loc[:, i])[0]"
   ]
  },
  {
   "cell_type": "code",
   "execution_count": 9,
   "id": "e1bd97eb",
   "metadata": {},
   "outputs": [
    {
     "data": {
      "image/png": "[encoded data removed]",
      "text/plain": [
       "<Figure size 792x792 with 25 Axes>"
      ]
     },
     "metadata": {
      "needs_background": "light"
     },
     "output_type": "display_data"
    }
   ],
   "source": [
    "ax = df_TF.hist(bins=50, xlabelsize=-1, ylabelsize=-1, figsize=(11,11))"
   ]
  },
  {
   "cell_type": "code",
   "execution_count": 11,
   "id": "5dc390fb",
   "metadata": {},
   "outputs": [
    {
     "name": "stdout",
     "output_type": "stream",
     "text": [
      "mean:  0.0\n",
      "standard dev:  1.0\n"
     ]
    }
   ],
   "source": [
    "df_TF = StandardScaler().fit_transform(df_TF)\n",
    "\n",
    "print(\"mean: \", np.round(df_TF.mean(), 2))\n",
    "print(\"standard dev: \", np.round(df_TF.std(), 2))"
   ]
  },
  {
   "cell_type": "code",
   "execution_count": 12,
   "id": "7cf9f34a",
   "metadata": {},
   "outputs": [],
   "source": [
    "fit = PCA()\n",
    "pca = fit.fit_transform(df_TF)"
   ]
  },
  {
   "cell_type": "code",
   "execution_count": 13,
   "id": "2ab59170",
   "metadata": {},
   "outputs": [
    {
     "data": {
      "text/plain": [
       "[<matplotlib.lines.Line2D at 0x215ee6b2fa0>]"
      ]
     },
     "execution_count": 13,
     "metadata": {},
     "output_type": "execute_result"
    },
    {
     "data": {
      "image/png": "[encoded data removed]",
      "text/plain": [
       "<Figure size 432x288 with 1 Axes>"
      ]
     },
     "metadata": {
      "needs_background": "light"
     },
     "output_type": "display_data"
    }
   ],
   "source": [
    "plt.plot(fit.explained_variance_ratio_)"
   ]
  },
  {
   "cell_type": "code",
   "execution_count": 14,
   "id": "f9fc3a51",
   "metadata": {},
   "outputs": [
    {
     "name": "stdout",
     "output_type": "stream",
     "text": [
      "[0.34554936 0.17971019 0.09201387 0.06176452 0.05520037 0.03764111\n",
      " 0.02996247 0.02566808 0.02294417 0.0192006  0.01828886 0.01721459\n",
      " 0.01443828 0.01337614 0.0107629  0.00977106 0.00894584 0.00878398\n",
      " 0.00760274 0.00668982 0.00589323 0.00545379 0.00312402]\n",
      "0.734238306925474\n"
     ]
    }
   ],
   "source": [
    "print(fit.explained_variance_ratio_)\n",
    "print(fit.explained_variance_ratio_[:5].sum())"
   ]
  },
  {
   "cell_type": "code",
   "execution_count": 15,
   "id": "6aaf6def",
   "metadata": {},
   "outputs": [],
   "source": [
    "\n",
    "pca = pd.DataFrame(pca[:, :5], index=df.index)\n",
    "pca = pca.join(df_desc)\n",
    "pca.drop(['CommonName','MfgName','ScientificName'], axis=1, inplace=True)\n",
    "pca.rename(columns={0:'c1',1:'c2',2:'c3',3:'c4',4:'c5'}, inplace=True)"
   ]
  },
  {
   "cell_type": "code",
   "execution_count": 16,
   "id": "92b835e9",
   "metadata": {},
   "outputs": [
    {
     "data": {
      "text/html": [
       "<div>\n",
       "<style scoped>\n",
       "    .dataframe tbody tr th:only-of-type {\n",
       "        vertical-align: middle;\n",
       "    }\n",
       "\n",
       "    .dataframe tbody tr th {\n",
       "        vertical-align: top;\n",
       "    }\n",
       "\n",
       "    .dataframe thead th {\n",
       "        text-align: right;\n",
       "    }\n",
       "</style>\n",
       "<table border=\"1\" class=\"dataframe\">\n",
       "  <thead>\n",
       "    <tr style=\"text-align: right;\">\n",
       "      <th></th>\n",
       "      <th>c1</th>\n",
       "      <th>c2</th>\n",
       "      <th>c3</th>\n",
       "      <th>c4</th>\n",
       "      <th>c5</th>\n",
       "    </tr>\n",
       "  </thead>\n",
       "  <tbody>\n",
       "    <tr>\n",
       "      <th>c1</th>\n",
       "      <td>1.0</td>\n",
       "      <td>-0.0</td>\n",
       "      <td>0.0</td>\n",
       "      <td>-0.0</td>\n",
       "      <td>0.0</td>\n",
       "    </tr>\n",
       "    <tr>\n",
       "      <th>c2</th>\n",
       "      <td>-0.0</td>\n",
       "      <td>1.0</td>\n",
       "      <td>0.0</td>\n",
       "      <td>0.0</td>\n",
       "      <td>-0.0</td>\n",
       "    </tr>\n",
       "    <tr>\n",
       "      <th>c3</th>\n",
       "      <td>0.0</td>\n",
       "      <td>0.0</td>\n",
       "      <td>1.0</td>\n",
       "      <td>0.0</td>\n",
       "      <td>0.0</td>\n",
       "    </tr>\n",
       "    <tr>\n",
       "      <th>c4</th>\n",
       "      <td>-0.0</td>\n",
       "      <td>0.0</td>\n",
       "      <td>0.0</td>\n",
       "      <td>1.0</td>\n",
       "      <td>0.0</td>\n",
       "    </tr>\n",
       "    <tr>\n",
       "      <th>c5</th>\n",
       "      <td>0.0</td>\n",
       "      <td>-0.0</td>\n",
       "      <td>0.0</td>\n",
       "      <td>0.0</td>\n",
       "      <td>1.0</td>\n",
       "    </tr>\n",
       "  </tbody>\n",
       "</table>\n",
       "</div>"
      ],
      "text/plain": [
       "     c1   c2   c3   c4   c5\n",
       "c1  1.0 -0.0  0.0 -0.0  0.0\n",
       "c2 -0.0  1.0  0.0  0.0 -0.0\n",
       "c3  0.0  0.0  1.0  0.0  0.0\n",
       "c4 -0.0  0.0  0.0  1.0  0.0\n",
       "c5  0.0 -0.0  0.0  0.0  1.0"
      ]
     },
     "execution_count": 16,
     "metadata": {},
     "output_type": "execute_result"
    }
   ],
   "source": [
    "np.round(pca.corr(), 5)"
   ]
  },
  {
   "cell_type": "code",
   "execution_count": 17,
   "id": "9feace1b",
   "metadata": {},
   "outputs": [
    {
     "data": {
      "text/plain": [
       "Zinc_mg          0.308506\n",
       "Phosphorus_mg    0.305000\n",
       "Niacin_mg        0.294094\n",
       "Protein_g        0.286086\n",
       "Riboflavin_mg    0.282687\n",
       "VitB6_mg         0.270646\n",
       "Selenium_mcg     0.264114\n",
       "Iron_mg          0.262314\n",
       "Magnesium_mg     0.260245\n",
       "Thiamin_mg       0.235440\n",
       "VitB12_mcg       0.221322\n",
       "Copper_mcg       0.220232\n",
       "Folate_mcg       0.167856\n",
       "Energy_kcal      0.165126\n",
       "Fat_g            0.161488\n",
       "Calcium_mg       0.135512\n",
       "VitE_mg          0.090808\n",
       "Manganese_mg     0.088762\n",
       "VitA_mcg         0.056996\n",
       "Fiber_g         -0.004663\n",
       "Carb_g          -0.033767\n",
       "VitC_mg         -0.069830\n",
       "Sugar_g         -0.076132\n",
       "dtype: float64"
      ]
     },
     "execution_count": 17,
     "metadata": {},
     "output_type": "execute_result"
    }
   ],
   "source": [
    "vects = fit.components_[:5]\n",
    "\n",
    "one = pd.Series(vects[0], index=df.columns)\n",
    "one.sort_values(ascending=False)"
   ]
  },
  {
   "cell_type": "code",
   "execution_count": 18,
   "id": "d738b6cc",
   "metadata": {},
   "outputs": [
    {
     "data": {
      "text/plain": [
       "Carb_g           0.414542\n",
       "Fiber_g          0.397832\n",
       "Manganese_mg     0.343603\n",
       "Sugar_g          0.295640\n",
       "VitC_mg          0.242314\n",
       "Folate_mcg       0.238391\n",
       "Calcium_mg       0.231052\n",
       "Magnesium_mg     0.199838\n",
       "Copper_mcg       0.181631\n",
       "Thiamin_mg       0.159641\n",
       "Iron_mg          0.118917\n",
       "VitE_mg          0.104310\n",
       "VitA_mcg         0.095701\n",
       "Energy_kcal      0.041850\n",
       "Riboflavin_mg    0.024240\n",
       "Phosphorus_mg   -0.001517\n",
       "VitB6_mg        -0.052166\n",
       "Niacin_mg       -0.064197\n",
       "Zinc_mg         -0.100529\n",
       "Fat_g           -0.123575\n",
       "Selenium_mcg    -0.138883\n",
       "Protein_g       -0.196127\n",
       "VitB12_mcg      -0.265671\n",
       "dtype: float64"
      ]
     },
     "execution_count": 18,
     "metadata": {},
     "output_type": "execute_result"
    }
   ],
   "source": [
    "two = pd.Series(vects[1], index=df.columns)\n",
    "two.sort_values(ascending=False)"
   ]
  },
  {
   "cell_type": "code",
   "execution_count": 19,
   "id": "04b01f18",
   "metadata": {},
   "outputs": [
    {
     "data": {
      "text/plain": [
       "Energy_kcal      0.508062\n",
       "Fat_g            0.409505\n",
       "Carb_g           0.250952\n",
       "Sugar_g          0.208651\n",
       "Thiamin_mg       0.191124\n",
       "Fiber_g          0.153640\n",
       "Iron_mg          0.115065\n",
       "Riboflavin_mg    0.062074\n",
       "Niacin_mg        0.055991\n",
       "Protein_g        0.026828\n",
       "Phosphorus_mg   -0.010948\n",
       "VitE_mg         -0.012473\n",
       "Zinc_mg         -0.051002\n",
       "Magnesium_mg    -0.100792\n",
       "VitB12_mcg      -0.107476\n",
       "Manganese_mg    -0.108755\n",
       "VitB6_mg        -0.121850\n",
       "Calcium_mg      -0.125621\n",
       "Selenium_mcg    -0.131798\n",
       "Copper_mcg      -0.177702\n",
       "Folate_mcg      -0.264298\n",
       "VitA_mcg        -0.298089\n",
       "VitC_mg         -0.334490\n",
       "dtype: float64"
      ]
     },
     "execution_count": 19,
     "metadata": {},
     "output_type": "execute_result"
    }
   ],
   "source": [
    "three = pd.Series(vects[2], index=df.columns)\n",
    "three.sort_values(ascending=False)"
   ]
  },
  {
   "cell_type": "code",
   "execution_count": 20,
   "id": "44f6eb45",
   "metadata": {},
   "outputs": [
    {
     "data": {
      "text/plain": [
       "VitA_mcg         0.539792\n",
       "VitE_mg          0.537710\n",
       "Fat_g            0.282774\n",
       "Sugar_g          0.279657\n",
       "Calcium_mg       0.188343\n",
       "VitB12_mcg       0.167068\n",
       "Energy_kcal      0.158787\n",
       "VitC_mg          0.129288\n",
       "Selenium_mcg     0.063452\n",
       "Riboflavin_mg    0.061855\n",
       "Folate_mcg       0.011655\n",
       "VitB6_mg        -0.011382\n",
       "Phosphorus_mg   -0.022623\n",
       "Carb_g          -0.025185\n",
       "Zinc_mg         -0.055472\n",
       "Niacin_mg       -0.065223\n",
       "Thiamin_mg      -0.086530\n",
       "Protein_g       -0.090944\n",
       "Fiber_g         -0.119122\n",
       "Magnesium_mg    -0.131683\n",
       "Iron_mg         -0.149698\n",
       "Copper_mcg      -0.167872\n",
       "Manganese_mg    -0.203804\n",
       "dtype: float64"
      ]
     },
     "execution_count": 20,
     "metadata": {},
     "output_type": "execute_result"
    }
   ],
   "source": [
    "four = pd.Series(vects[3], index=df.columns)\n",
    "four.sort_values(ascending=False)"
   ]
  },
  {
   "cell_type": "code",
   "execution_count": 21,
   "id": "9818d0cf",
   "metadata": {},
   "outputs": [
    {
     "data": {
      "text/plain": [
       "Riboflavin_mg    0.322545\n",
       "Thiamin_mg       0.281944\n",
       "Niacin_mg        0.264423\n",
       "Sugar_g          0.264262\n",
       "VitB6_mg         0.254663\n",
       "VitC_mg          0.249634\n",
       "VitB12_mcg       0.195637\n",
       "Iron_mg          0.158585\n",
       "Carb_g           0.101396\n",
       "Fiber_g          0.075900\n",
       "VitA_mcg         0.057928\n",
       "Zinc_mg         -0.029074\n",
       "Calcium_mg      -0.035398\n",
       "Protein_g       -0.046148\n",
       "Phosphorus_mg   -0.084178\n",
       "Folate_mcg      -0.105000\n",
       "Magnesium_mg    -0.143789\n",
       "Selenium_mcg    -0.163561\n",
       "Energy_kcal     -0.204336\n",
       "VitE_mg         -0.250605\n",
       "Fat_g           -0.266740\n",
       "Copper_mcg      -0.316998\n",
       "Manganese_mg    -0.347515\n",
       "dtype: float64"
      ]
     },
     "execution_count": 21,
     "metadata": {},
     "output_type": "execute_result"
    }
   ],
   "source": [
    "five = pd.Series(vects[4], index=df.columns)\n",
    "five.sort_values(ascending=False)"
   ]
  },
  {
   "cell_type": "code",
   "execution_count": 22,
   "id": "097eda6a",
   "metadata": {},
   "outputs": [
    {
     "data": {
      "text/plain": [
       "Soups, Sauces, and Gravies             190\n",
       "Beverages                              167\n",
       "Sweets                                  45\n",
       "Vegetables and Vegetable Products       20\n",
       "Legumes and Legume Products             16\n",
       "Fruits and Fruit Juices                 16\n",
       "Baby Foods                              10\n",
       "Meals, Entrees, and Side Dishes          9\n",
       "Fats and Oils                            7\n",
       "Spices and Herbs                         7\n",
       "American Indian/Alaska Native Foods      5\n",
       "Snacks                                   3\n",
       "Fast Foods                               2\n",
       "Baked Products                           2\n",
       "Sausages and Luncheon Meats              1\n",
       "Name: FoodGroup, dtype: int64"
      ]
     },
     "execution_count": 22,
     "metadata": {},
     "output_type": "execute_result"
    }
   ],
   "source": [
    "pca.sort_values(by='c1')['FoodGroup'][:500].value_counts()"
   ]
  },
  {
   "cell_type": "code",
   "execution_count": 23,
   "id": "29d8915c",
   "metadata": {},
   "outputs": [
    {
     "data": {
      "text/plain": [
       "Beef Products                          353\n",
       "Lamb, Veal, and Game Products           71\n",
       "Poultry Products                        21\n",
       "American Indian/Alaska Native Foods     13\n",
       "Fats and Oils                           13\n",
       "Pork Products                            9\n",
       "Finfish and Shellfish Products           8\n",
       "Sausages and Luncheon Meats              4\n",
       "Restaurant Foods                         3\n",
       "Fast Foods                               3\n",
       "Beverages                                2\n",
       "Name: FoodGroup, dtype: int64"
      ]
     },
     "execution_count": 23,
     "metadata": {},
     "output_type": "execute_result"
    }
   ],
   "source": [
    "pca.sort_values(by='c2')['FoodGroup'][:500].value_counts()"
   ]
  },
  {
   "cell_type": "code",
   "execution_count": 24,
   "id": "af9da1d1",
   "metadata": {},
   "outputs": [
    {
     "data": {
      "text/plain": [
       "Vegetables and Vegetable Products      344\n",
       "Finfish and Shellfish Products          68\n",
       "Poultry Products                        19\n",
       "Beverages                               10\n",
       "Soups, Sauces, and Gravies              10\n",
       "Fruits and Fruit Juices                  9\n",
       "Lamb, Veal, and Game Products            9\n",
       "Baby Foods                               7\n",
       "Spices and Herbs                         6\n",
       "Fast Foods                               5\n",
       "Beef Products                            4\n",
       "Pork Products                            4\n",
       "Nut and Seed Products                    2\n",
       "American Indian/Alaska Native Foods      2\n",
       "Dairy and Egg Products                   1\n",
       "Name: FoodGroup, dtype: int64"
      ]
     },
     "execution_count": 24,
     "metadata": {},
     "output_type": "execute_result"
    }
   ],
   "source": [
    "pca.sort_values(by='c3')['FoodGroup'][:500].value_counts()"
   ]
  },
  {
   "cell_type": "code",
   "execution_count": 25,
   "id": "43fdeb6e",
   "metadata": {},
   "outputs": [
    {
     "data": {
      "text/plain": [
       "Legumes and Legume Products            124\n",
       "Cereal Grains and Pasta                 98\n",
       "Vegetables and Vegetable Products       89\n",
       "Baked Products                          39\n",
       "Nut and Seed Products                   34\n",
       "Breakfast Cereals                       23\n",
       "Snacks                                  19\n",
       "American Indian/Alaska Native Foods     18\n",
       "Beverages                               16\n",
       "Sweets                                  15\n",
       "Lamb, Veal, and Game Products            6\n",
       "Sausages and Luncheon Meats              6\n",
       "Spices and Herbs                         5\n",
       "Fruits and Fruit Juices                  2\n",
       "Soups, Sauces, and Gravies               2\n",
       "Finfish and Shellfish Products           2\n",
       "Baby Foods                               1\n",
       "Poultry Products                         1\n",
       "Name: FoodGroup, dtype: int64"
      ]
     },
     "execution_count": 25,
     "metadata": {},
     "output_type": "execute_result"
    }
   ],
   "source": [
    "pca.sort_values(by='c4')['FoodGroup'][:500].value_counts()"
   ]
  },
  {
   "cell_type": "code",
   "execution_count": 26,
   "id": "b0694d95",
   "metadata": {},
   "outputs": [
    {
     "data": {
      "text/plain": [
       "Fats and Oils                          145\n",
       "Nut and Seed Products                   81\n",
       "Sweets                                  51\n",
       "Legumes and Legume Products             50\n",
       "Snacks                                  41\n",
       "Baked Products                          24\n",
       "Sausages and Luncheon Meats             17\n",
       "American Indian/Alaska Native Foods     16\n",
       "Dairy and Egg Products                  13\n",
       "Finfish and Shellfish Products          12\n",
       "Cereal Grains and Pasta                 12\n",
       "Breakfast Cereals                        8\n",
       "Fast Foods                               5\n",
       "Restaurant Foods                         4\n",
       "Spices and Herbs                         4\n",
       "Poultry Products                         3\n",
       "Beverages                                3\n",
       "Beef Products                            3\n",
       "Pork Products                            2\n",
       "Lamb, Veal, and Game Products            2\n",
       "Baby Foods                               1\n",
       "Fruits and Fruit Juices                  1\n",
       "Soups, Sauces, and Gravies               1\n",
       "Vegetables and Vegetable Products        1\n",
       "Name: FoodGroup, dtype: int64"
      ]
     },
     "execution_count": 26,
     "metadata": {},
     "output_type": "execute_result"
    }
   ],
   "source": [
    "pca.sort_values(by='c5')['FoodGroup'][:500].value_counts()"
   ]
  },
  {
   "cell_type": "code",
   "execution_count": null,
   "id": "c1887bba",
   "metadata": {},
   "outputs": [],
   "source": []
  }
 ],
 "metadata": {
  "kernelspec": {
   "display_name": "Python 3",
   "language": "python",
   "name": "python3"
  },
  "language_info": {
   "codemirror_mode": {
    "name": "ipython",
    "version": 3
   },
   "file_extension": ".py",
   "mimetype": "text/x-python",
   "name": "python",
   "nbconvert_exporter": "python",
   "pygments_lexer": "ipython3",
   "version": "3.8.8"
  }
 },
 "nbformat": 4,
 "nbformat_minor": 5
}
